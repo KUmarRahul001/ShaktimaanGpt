{
 "cells": [
  {
   "cell_type": "code",
   "execution_count": 70,
   "metadata": {},
   "outputs": [],
   "source": [
    "from datasets import load_dataset\n"
   ]
  },
  {
   "cell_type": "code",
   "execution_count": 71,
   "metadata": {},
   "outputs": [],
   "source": [
    "awesome_chatgpt_prompts = load_dataset(\"fka/awesome-chatgpt-prompts\")"
   ]
  },
  {
   "cell_type": "code",
   "execution_count": 72,
   "metadata": {},
   "outputs": [],
   "source": [
    "awesomechatgpt_prompts = awesome_chatgpt_prompts['train'].to_pandas()\n",
    "\n",
    "awesomechatgpt_prompts.to_csv(\"awesomechatgpt_prompts.csv\", index=True)"
   ]
  },
  {
   "cell_type": "code",
   "execution_count": 73,
   "metadata": {},
   "outputs": [
    {
     "name": "stdout",
     "output_type": "stream",
     "text": [
      "                               act  \\\n",
      "0                   Linux Terminal   \n",
      "1  English Translator and Improver   \n",
      "2           `position` Interviewer   \n",
      "3               JavaScript Console   \n",
      "4                      Excel Sheet   \n",
      "\n",
      "                                              prompt  \n",
      "0  I want you to act as a linux terminal. I will ...  \n",
      "1  I want you to act as an English translator, sp...  \n",
      "2  I want you to act as an interviewer. I will be...  \n",
      "3  I want you to act as a javascript console. I w...  \n",
      "4  I want you to act as a text based excel. you'l...  \n"
     ]
    }
   ],
   "source": [
    "print(awesomechatgpt_prompts.head())"
   ]
  },
  {
   "cell_type": "code",
   "execution_count": 74,
   "metadata": {},
   "outputs": [
    {
     "name": "stdout",
     "output_type": "stream",
     "text": [
      "<class 'pandas.core.frame.DataFrame'>\n",
      "RangeIndex: 153 entries, 0 to 152\n",
      "Data columns (total 2 columns):\n",
      " #   Column  Non-Null Count  Dtype \n",
      "---  ------  --------------  ----- \n",
      " 0   act     153 non-null    object\n",
      " 1   prompt  153 non-null    object\n",
      "dtypes: object(2)\n",
      "memory usage: 2.5+ KB\n",
      "None\n"
     ]
    }
   ],
   "source": [
    "print(awesomechatgpt_prompts.info())\n"
   ]
  },
  {
   "cell_type": "code",
   "execution_count": 75,
   "metadata": {},
   "outputs": [
    {
     "name": "stdout",
     "output_type": "stream",
     "text": [
      "               act                                             prompt\n",
      "count          153                                                153\n",
      "unique         152                                                153\n",
      "top     Life Coach  I want you to act as a linux terminal. I will ...\n",
      "freq             2                                                  1\n"
     ]
    }
   ],
   "source": [
    "print(awesomechatgpt_prompts.describe())\n"
   ]
  },
  {
   "cell_type": "code",
   "execution_count": 76,
   "metadata": {},
   "outputs": [
    {
     "name": "stdout",
     "output_type": "stream",
     "text": [
      "Index(['act', 'prompt'], dtype='object')\n"
     ]
    }
   ],
   "source": [
    "print(awesomechatgpt_prompts.columns)\n"
   ]
  },
  {
   "cell_type": "code",
   "execution_count": 77,
   "metadata": {},
   "outputs": [
    {
     "name": "stdout",
     "output_type": "stream",
     "text": [
      "(153, 2)\n"
     ]
    }
   ],
   "source": [
    "print(awesomechatgpt_prompts.shape)\n"
   ]
  },
  {
   "cell_type": "code",
   "execution_count": 78,
   "metadata": {},
   "outputs": [
    {
     "name": "stdout",
     "output_type": "stream",
     "text": [
      "act       object\n",
      "prompt    object\n",
      "dtype: object\n"
     ]
    }
   ],
   "source": [
    "print(awesomechatgpt_prompts.dtypes)\n"
   ]
  },
  {
   "cell_type": "code",
   "execution_count": 79,
   "metadata": {},
   "outputs": [
    {
     "name": "stdout",
     "output_type": "stream",
     "text": [
      "act       0\n",
      "prompt    0\n",
      "dtype: int64\n"
     ]
    }
   ],
   "source": [
    "print(awesomechatgpt_prompts.isnull().sum())\n"
   ]
  },
  {
   "cell_type": "code",
   "execution_count": 80,
   "metadata": {},
   "outputs": [
    {
     "name": "stdout",
     "output_type": "stream",
     "text": [
      "0\n"
     ]
    }
   ],
   "source": [
    "print(awesomechatgpt_prompts.duplicated().sum())\n"
   ]
  },
  {
   "cell_type": "code",
   "execution_count": 81,
   "metadata": {},
   "outputs": [
    {
     "name": "stdout",
     "output_type": "stream",
     "text": [
      "act       152\n",
      "prompt    153\n",
      "dtype: int64\n"
     ]
    }
   ],
   "source": [
    "print(awesomechatgpt_prompts.nunique())\n"
   ]
  },
  {
   "cell_type": "code",
   "execution_count": 82,
   "metadata": {},
   "outputs": [
    {
     "name": "stdout",
     "output_type": "stream",
     "text": [
      "Empty DataFrame\n",
      "Columns: []\n",
      "Index: []\n"
     ]
    }
   ],
   "source": [
    "numeric_df = awesomechatgpt_prompts.select_dtypes(include=['number'])\n",
    "print(numeric_df.corr())"
   ]
  },
  {
   "cell_type": "code",
   "execution_count": 83,
   "metadata": {},
   "outputs": [
    {
     "name": "stdout",
     "output_type": "stream",
     "text": [
      "Empty DataFrame\n",
      "Columns: []\n",
      "Index: []\n"
     ]
    }
   ],
   "source": [
    "awesomechatgpt_prompts = awesomechatgpt_prompts.drop(columns=['act', 'prompt'])  # Assuming 'prompt' and 'tag' are non-numeric\n",
    "print(awesomechatgpt_prompts.corr())\n"
   ]
  },
  {
   "cell_type": "code",
   "execution_count": 84,
   "metadata": {},
   "outputs": [
    {
     "name": "stdout",
     "output_type": "stream",
     "text": [
      "Index([], dtype='object')\n"
     ]
    }
   ],
   "source": [
    "print(awesomechatgpt_prompts.columns)\n"
   ]
  },
  {
   "cell_type": "code",
   "execution_count": 86,
   "metadata": {},
   "outputs": [],
   "source": [
    "import pickle\n",
    "import pandas as pd\n",
    "from sklearn.model_selection import train_test_split\n",
    "from sklearn.linear_model import LogisticRegression\n",
    "from sklearn.feature_extraction.text import TfidfVectorizer\n",
    "\n",
    "# Load the dataset\n",
    "data = pd.read_csv('/home/user/shaktimaangpt/ml_engine/awesomechatgpt_prompts.csv')\n",
    "\n",
    "# Split the data into features and target\n",
    "X = data['act']  # Features\n",
    "y = data['prompt']     # Target\n",
    "\n",
    "# Convert text data into numerical data using TfidfVectorizer\n",
    "vectorizer = TfidfVectorizer()\n",
    "X = vectorizer.fit_transform(X)\n",
    "\n",
    "# Split the data into train and test sets\n",
    "X_train, X_test, y_train, y_test = train_test_split(X, y, test_size=0.2, random_state=42)\n",
    "\n",
    "# Train the model\n",
    "model = LogisticRegression()\n",
    "model.fit(X_train, y_train)\n",
    "\n",
    "# Save the model and the vectorizer to pickle files\n",
    "model_filename = 'model.pkl'\n",
    "vectorizer_filename = 'vectorizer.pkl'\n",
    "pickle.dump(model, open(model_filename, 'wb'))\n",
    "pickle.dump(vectorizer, open(vectorizer_filename, 'wb'))\n"
   ]
  }
 ],
 "metadata": {
  "kernelspec": {
   "display_name": ".venv",
   "language": "python",
   "name": "python3"
  },
  "language_info": {
   "codemirror_mode": {
    "name": "ipython",
    "version": 3
   },
   "file_extension": ".py",
   "mimetype": "text/x-python",
   "name": "python",
   "nbconvert_exporter": "python",
   "pygments_lexer": "ipython3",
   "version": "3.11.8"
  }
 },
 "nbformat": 4,
 "nbformat_minor": 2
}
